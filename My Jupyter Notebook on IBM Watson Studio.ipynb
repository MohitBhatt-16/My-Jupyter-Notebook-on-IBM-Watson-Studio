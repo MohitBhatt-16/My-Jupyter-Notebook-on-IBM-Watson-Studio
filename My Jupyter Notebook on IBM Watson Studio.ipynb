{
 "cells": [
  {
   "cell_type": "markdown",
   "id": "3386f7fc",
   "metadata": {},
   "source": [
    "# My Jupyter Notebook on IBM Watson Studio"
   ]
  },
  {
   "cell_type": "markdown",
   "id": "c2562e13",
   "metadata": {},
   "source": [
    "## Mohit Bhatt \n",
    "Data Scientist\n"
   ]
  },
  {
   "cell_type": "markdown",
   "id": "c5ba759e",
   "metadata": {},
   "source": [
    "_I am interested in data science because I want to create powerful solutions and provide deep insights into issues an organization needs to solve or discover underlying patterns to discover new potentioal insights_"
   ]
  },
  {
   "cell_type": "markdown",
   "id": "fe306b23",
   "metadata": {},
   "source": [
    "### Following code will generate a random number less than 100"
   ]
  },
  {
   "cell_type": "code",
   "execution_count": 1,
   "id": "ea9f2b63",
   "metadata": {},
   "outputs": [
    {
     "name": "stdout",
     "output_type": "stream",
     "text": [
      "31\n"
     ]
    }
   ],
   "source": [
    "import random\n",
    "random_num = random.randint(0,101)\n",
    "print(random_num)"
   ]
  },
  {
   "cell_type": "markdown",
   "id": "52d34a1f",
   "metadata": {},
   "source": [
    "Interested Technology\n",
    "***\n",
    "* AI\n",
    "* Machine Learning\n",
    "* Data Analytics\n",
    "* Iot\n",
    "___\n",
    "<a href = \"https://www.google.com\">Google<a>"
   ]
  },
  {
   "cell_type": "code",
   "execution_count": null,
   "id": "9389406f",
   "metadata": {},
   "outputs": [],
   "source": []
  }
 ],
 "metadata": {
  "kernelspec": {
   "display_name": "Python 3 (ipykernel)",
   "language": "python",
   "name": "python3"
  },
  "language_info": {
   "codemirror_mode": {
    "name": "ipython",
    "version": 3
   },
   "file_extension": ".py",
   "mimetype": "text/x-python",
   "name": "python",
   "nbconvert_exporter": "python",
   "pygments_lexer": "ipython3",
   "version": "3.9.12"
  }
 },
 "nbformat": 4,
 "nbformat_minor": 5
}
